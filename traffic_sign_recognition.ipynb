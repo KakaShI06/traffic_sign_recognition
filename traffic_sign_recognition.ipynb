{
 "cells": [
  {
   "cell_type": "code",
   "execution_count": 1,
   "metadata": {},
   "outputs": [
    {
     "name": "stderr",
     "output_type": "stream",
     "text": [
      "Using TensorFlow backend.\n"
     ]
    }
   ],
   "source": [
    "import os\n",
    "import numpy as np\n",
    "import pandas as pd\n",
    "import matplotlib.pyplot as plt\n",
    "from PIL import Image\n",
    "import tensorflow as tf\n",
    "from sklearn.model_selection import train_test_split\n",
    "from keras.utils import to_categorical\n",
    "from keras.models import Sequential\n",
    "from keras.layers import Conv2D, MaxPool2D, Dense, Flatten, Dropout"
   ]
  },
  {
   "cell_type": "code",
   "execution_count": 31,
   "metadata": {},
   "outputs": [],
   "source": [
    "X = []\n",
    "Y = []\n",
    "total_class = 43\n",
    "cur_directory = os.getcwd()"
   ]
  },
  {
   "cell_type": "code",
   "execution_count": 32,
   "metadata": {},
   "outputs": [],
   "source": [
    "for index in range(total_class):\n",
    "    path= os.path.join(cur_directory, 'Train', str(index))\n",
    "    images= os.listdir(path)\n",
    "    \n",
    "    for img in images:\n",
    "        image= Image.open(path + '\\\\' + img)\n",
    "        image= image.resize((30,30))\n",
    "        image= np.array(image)\n",
    "\n",
    "        X.append(image)\n",
    "        Y.append(index)\n"
   ]
  },
  {
   "cell_type": "code",
   "execution_count": 33,
   "metadata": {},
   "outputs": [],
   "source": [
    "X= np.array(X)\n",
    "Y= np.array(Y)"
   ]
  },
  {
   "cell_type": "code",
   "execution_count": 34,
   "metadata": {},
   "outputs": [
    {
     "data": {
      "text/plain": [
       "((39209, 30, 30, 3), (39209,))"
      ]
     },
     "execution_count": 34,
     "metadata": {},
     "output_type": "execute_result"
    }
   ],
   "source": [
    "X.shape, Y.shape"
   ]
  },
  {
   "cell_type": "code",
   "execution_count": 35,
   "metadata": {},
   "outputs": [],
   "source": [
    "x_train, x_test, y_train, y_test = train_test_split(X, Y, test_size=0.2, random_state=42)"
   ]
  },
  {
   "cell_type": "code",
   "execution_count": 36,
   "metadata": {},
   "outputs": [],
   "source": [
    "y_train = to_categorical(y_train, 43)\n",
    "y_test = to_categorical(y_test, 43)"
   ]
  },
  {
   "cell_type": "code",
   "execution_count": 42,
   "metadata": {},
   "outputs": [],
   "source": [
    "model = Sequential()\n",
    "model.add(Conv2D(filters=32, kernel_size=(5,5), activation='relu', input_shape=x_train.shape[1:]))\n",
    "model.add(Conv2D(filters=32, kernel_size=(5,5), activation='relu'))\n",
    "model.add(MaxPool2D(pool_size=(2, 2)))\n",
    "model.add(Dropout(rate=0.25))\n",
    "model.add(Conv2D(filters=64, kernel_size=(3, 3), activation='relu'))\n",
    "model.add(Conv2D(filters=64, kernel_size=(3, 3), activation='relu'))\n",
    "model.add(MaxPool2D(pool_size=(2, 2)))\n",
    "model.add(Dropout(rate=0.25))\n",
    "model.add(Flatten())\n",
    "model.add(Dense(256, activation='relu'))\n",
    "model.add(Dropout(rate=0.5))\n",
    "model.add(Dense(43, activation='softmax'))\n",
    "model.compile(loss='categorical_crossentropy', optimizer='adam', metrics=['accuracy'])"
   ]
  },
  {
   "cell_type": "code",
   "execution_count": 49,
   "metadata": {},
   "outputs": [
    {
     "name": "stdout",
     "output_type": "stream",
     "text": [
      "Train on 31367 samples, validate on 7842 samples\n",
      "Epoch 1/15\n",
      "31367/31367 [==============================] - 69s 2ms/step - loss: 2.6721 - acc: 0.8339 - val_loss: 2.4048 - val_acc: 0.8505\n",
      "Epoch 2/15\n",
      "31367/31367 [==============================] - 77s 2ms/step - loss: 1.7681 - acc: 0.8901 - val_loss: 0.7200 - val_acc: 0.9552\n",
      "Epoch 3/15\n",
      "31367/31367 [==============================] - 77s 2ms/step - loss: 2.4619 - acc: 0.8470 - val_loss: 0.5435 - val_acc: 0.9661\n",
      "Epoch 4/15\n",
      "31367/31367 [==============================] - 77s 2ms/step - loss: 2.9374 - acc: 0.8172 - val_loss: 0.8007 - val_acc: 0.9501\n",
      "Epoch 5/15\n",
      "31367/31367 [==============================] - 78s 2ms/step - loss: 2.4089 - acc: 0.8503 - val_loss: 1.0089 - val_acc: 0.9371\n",
      "Epoch 6/15\n",
      "31367/31367 [==============================] - 78s 2ms/step - loss: 1.9228 - acc: 0.8804 - val_loss: 1.3611 - val_acc: 0.9152\n",
      "Epoch 7/15\n",
      "31367/31367 [==============================] - 78s 2ms/step - loss: 2.2844 - acc: 0.8581 - val_loss: 0.9568 - val_acc: 0.9406\n",
      "Epoch 8/15\n",
      "31367/31367 [==============================] - 78s 2ms/step - loss: 2.3248 - acc: 0.8555 - val_loss: 1.0934 - val_acc: 0.9320\n",
      "Epoch 9/15\n",
      "31367/31367 [==============================] - 79s 3ms/step - loss: 2.2353 - acc: 0.8612 - val_loss: 0.8990 - val_acc: 0.9440\n",
      "Epoch 10/15\n",
      "31367/31367 [==============================] - 79s 3ms/step - loss: 2.3841 - acc: 0.8519 - val_loss: 0.7649 - val_acc: 0.9524\n",
      "Epoch 11/15\n",
      "31367/31367 [==============================] - 78s 2ms/step - loss: 2.9254 - acc: 0.8182 - val_loss: 0.7401 - val_acc: 0.9540\n",
      "Epoch 12/15\n",
      "31367/31367 [==============================] - 77s 2ms/step - loss: 2.8050 - acc: 0.8258 - val_loss: 8.8437 - val_acc: 0.4510\n",
      "Epoch 13/15\n",
      "31367/31367 [==============================] - 79s 3ms/step - loss: 4.2289 - acc: 0.7374 - val_loss: 0.9675 - val_acc: 0.9399\n",
      "Epoch 14/15\n",
      "31367/31367 [==============================] - 81s 3ms/step - loss: 2.6760 - acc: 0.8337 - val_loss: 1.1983 - val_acc: 0.9257\n",
      "Epoch 15/15\n",
      "31367/31367 [==============================] - 83s 3ms/step - loss: 2.2751 - acc: 0.8587 - val_loss: 1.0029 - val_acc: 0.9378\n"
     ]
    }
   ],
   "source": [
    "history = model.fit(x_train, y_train, batch_size=64, epochs=15, validation_data=(x_test, y_test))"
   ]
  },
  {
   "cell_type": "code",
   "execution_count": 51,
   "metadata": {},
   "outputs": [
    {
     "data": {
      "text/plain": [
       "0.9048297703879652"
      ]
     },
     "execution_count": 51,
     "metadata": {},
     "output_type": "execute_result"
    }
   ],
   "source": [
    "#Testing the model\n",
    "from sklearn.metrics import accuracy_score\n",
    "import pandas as pd\n",
    "y_test = pd.read_csv('Test.csv')\n",
    "labels = y_test['ClassId'].values\n",
    "img_paths = y_test['Path'].values\n",
    "test_data=[]\n",
    "for path in img_paths:\n",
    "    image = Image.open(path)\n",
    "    image = image.resize((30,30))\n",
    "    test_data.append(np.array(image))\n",
    "  \n",
    "test_data = np.array(test_data)\n",
    "pred = model.predict_classes(test_data)\n",
    "#Accuracy with the test data\n",
    "from sklearn.metrics import accuracy_score\n",
    "accuracy_score(labels, pred)"
   ]
  },
  {
   "cell_type": "code",
   "execution_count": null,
   "metadata": {},
   "outputs": [],
   "source": []
  }
 ],
 "metadata": {
  "kernelspec": {
   "display_name": "Python 3",
   "language": "python",
   "name": "python3"
  },
  "language_info": {
   "codemirror_mode": {
    "name": "ipython",
    "version": 3
   },
   "file_extension": ".py",
   "mimetype": "text/x-python",
   "name": "python",
   "nbconvert_exporter": "python",
   "pygments_lexer": "ipython3",
   "version": "3.7.6"
  }
 },
 "nbformat": 4,
 "nbformat_minor": 4
}
